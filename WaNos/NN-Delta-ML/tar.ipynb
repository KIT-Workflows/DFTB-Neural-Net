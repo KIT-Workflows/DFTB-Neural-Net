{
 "cells": [
  {
   "cell_type": "code",
   "execution_count": 1,
   "metadata": {},
   "outputs": [],
   "source": [
    "import tarfile"
   ]
  },
  {
   "cell_type": "code",
   "execution_count": 2,
   "metadata": {},
   "outputs": [],
   "source": [
    "archive = tarfile.open(\"src.tar\", \"w\")\n",
    "archive.add((\"src/Utils/\"))\n",
    "archive.add((\"src/Dev/\"))\n",
    "archive.add((\"src/Calculator/\"))\n",
    "archive.add((\"src/Tools\"))\n",
    "archive.close()"
   ]
  },
  {
   "cell_type": "code",
   "execution_count": null,
   "metadata": {},
   "outputs": [],
   "source": []
  }
 ],
 "metadata": {
  "kernelspec": {
   "display_name": "Python 3.8.8 ('base')",
   "language": "python",
   "name": "python3"
  },
  "language_info": {
   "codemirror_mode": {
    "name": "ipython",
    "version": 3
   },
   "file_extension": ".py",
   "mimetype": "text/x-python",
   "name": "python",
   "nbconvert_exporter": "python",
   "pygments_lexer": "ipython3",
   "version": "3.8.8"
  },
  "orig_nbformat": 4,
  "vscode": {
   "interpreter": {
    "hash": "db727c30903d8ef2b5ba67b151eb7ebda75bdb03af8619f89c62bfc9967fadae"
   }
  }
 },
 "nbformat": 4,
 "nbformat_minor": 2
}

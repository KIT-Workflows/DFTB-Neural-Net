{
 "cells": [
  {
   "cell_type": "code",
   "execution_count": 1,
   "source": [
    "import sys\r\n",
    "import os\r\n",
    "import numpy as np\r\n",
    "import matplotlib.pyplot as plt"
   ],
   "outputs": [],
   "metadata": {}
  },
  {
   "cell_type": "code",
   "execution_count": 2,
   "source": [
    "root_dir = 'C:\\\\Users\\\\Tysh\\\\Desktop\\\\SimStackTest\\\\Workflows\\\\'\r\n",
    "test_DFT='TestsDFT'\r\n",
    "test_DFTB='TestDFTB'\r\n",
    "train_name = 'data'\r\n",
    "save_name = 'data_model'\r\n",
    "technical='model_2B_nUnit'"
   ],
   "outputs": [],
   "metadata": {}
  },
  {
   "cell_type": "code",
   "execution_count": 3,
   "source": [
    "train_dir = os.path.join(root_dir, train_name)\r\n",
    "technical_dir = os.path.join(root_dir, technical)\r\n",
    "save_dir = os.path.join(root_dir, save_name)\r\n",
    "testDFT_dir = os.path.join(root_dir, test_DFT)\r\n",
    "testDFTB_dir = os.path.join(root_dir, test_DFTB)\r\n",
    "\"\"\"\r\n",
    "try:\r\n",
    "    os.mkdir(train_dir)\r\n",
    "    os.mkdir(save_dir)\r\n",
    "    os.mkdir(technical_dir)\r\n",
    "except:\r\n",
    "    raise OSError(\"Folders already exist\")\r\n",
    "\"\"\""
   ],
   "outputs": [
    {
     "output_type": "execute_result",
     "data": {
      "text/plain": [
       "'\\ntry:\\n    os.mkdir(train_dir)\\n    os.mkdir(save_dir)\\n    os.mkdir(technical_dir)\\nexcept:\\n    raise OSError(\"Folders already exist\")\\n'"
      ]
     },
     "metadata": {},
     "execution_count": 3
    }
   ],
   "metadata": {}
  },
  {
   "cell_type": "code",
   "execution_count": 4,
   "source": [
    "path, dirs, filesDFTB = next(os.walk(testDFTB_dir))\r\n",
    "fileDFTB_count = len(filesDFTB)\r\n",
    "path, dirs, filesDFT = next(os.walk(testDFT_dir))\r\n",
    "fileDFT_count = len(filesDFT)"
   ],
   "outputs": [],
   "metadata": {}
  },
  {
   "cell_type": "code",
   "execution_count": 5,
   "source": [
    "f = open(os.path.join(train_dir, 'DFTB.dat'), 'w')\r\n",
    "for i in range(1,fileDFTB_count+1):\r\n",
    "    searchfile = open(os.path.join(testDFTB_dir, 'Origin000%soutput.txt' %i), \"r\")   \r\n",
    "    for line in searchfile:\r\n",
    "        if \"Total Energy:\" in line: \r\n",
    "            splitted=line.split()\r\n",
    "            f.write(splitted[-4]+ \"\\n\") \r\n",
    "    searchfile.close()\r\n",
    "f.close()"
   ],
   "outputs": [],
   "metadata": {}
  },
  {
   "cell_type": "code",
   "execution_count": 6,
   "source": [
    "g = open(os.path.join(train_dir, 'DFT.dat'), 'w')\r\n",
    "for j in range(1,fileDFT_count+1):\r\n",
    "    searchfile = open(os.path.join(testDFT_dir, 'DFT%s.out' %j), \"r\")   \r\n",
    "    for line in searchfile:\r\n",
    "        if \"Total Energy\" in line: \r\n",
    "            splitted=line.split()\r\n",
    "            g.write(splitted[-4]+ \"\\n\") \r\n",
    "    searchfile.close()\r\n",
    "g.close()"
   ],
   "outputs": [],
   "metadata": {}
  },
  {
   "cell_type": "code",
   "execution_count": 7,
   "source": [
    "#Get energy for normalization values, very similar but outside a loop\r\n",
    "\"\"\"\r\n",
    "searchfile = open(os.path.join(testDFT_dir, 'infinite.out'), \"r\")   \r\n",
    "for line in searchfile:\r\n",
    "    if \"Total Energy\" in line: \r\n",
    "        splitted=line.split()\r\n",
    "        DFTnorm=float(splitted[-4])\r\n",
    "print(DFTnorm)\r\n",
    "\"\"\"\r\n",
    "DFTnorm=3\r\n"
   ],
   "outputs": [],
   "metadata": {}
  },
  {
   "cell_type": "code",
   "execution_count": 8,
   "source": [
    "md_low_rel_e_arr_name  = os.path.join(train_dir, 'DFTB.dat')\r\n",
    "md_high_rel_e_arr_name = os.path.join(train_dir, 'DFT.dat')\r\n",
    "try:\r\n",
    "    md_dftb_ref_e_arr = np.loadtxt(md_low_rel_e_arr_name)+DFTnorm\r\n",
    "    md_pbe_ref_e_arr = np.loadtxt(md_high_rel_e_arr_name)+3\r\n",
    "except:\r\n",
    "    raise OSError(\"Cannot Read md_calc_rel_e_arr\")\r\n",
    "\r\n",
    "md_rel_energy_arr = (md_pbe_ref_e_arr - md_dftb_ref_e_arr)*627.5"
   ],
   "outputs": [],
   "metadata": {}
  },
  {
   "cell_type": "code",
   "execution_count": 9,
   "source": [
    "plt.figure(figsize=(8,8))\r\n",
    "plt.scatter(md_dftb_ref_e_arr, md_pbe_ref_e_arr,s=7)\r\n",
    "plt.xlabel('DFTB [kcal/mol]', fontsize = 12)\r\n",
    "plt.ylabel('CC [kcal/mol]', fontsize = 12)\r\n",
    "plt.xticks(fontsize=10)\r\n",
    "plt.yticks(fontsize=10)"
   ],
   "outputs": [
    {
     "output_type": "execute_result",
     "data": {
      "text/plain": [
       "(array([1.8  , 1.825, 1.85 , 1.875, 1.9  , 1.925, 1.95 , 1.975, 2.   ,\n",
       "        2.025]), <a list of 10 Text major ticklabel objects>)"
      ]
     },
     "metadata": {},
     "execution_count": 9
    },
    {
     "output_type": "display_data",
     "data": {
      "image/png": "[encoded data removed]",
      "text/plain": [
       "<Figure size 576x576 with 1 Axes>"
      ]
     },
     "metadata": {
      "needs_background": "light"
     }
    }
   ],
   "metadata": {}
  },
  {
   "cell_type": "code",
   "execution_count": 10,
   "source": [
    "plt.figure(figsize=(7,5))\r\n",
    "import seaborn as sns\r\n",
    "sns.distplot(md_rel_energy_arr,hist = False, color='blue',kde = True,kde_kws = {'shade': True})\r\n",
    "#sns.distplot(b,hist = False, color='red',kde = True,kde_kws = {'shade': True},label='Final dataset')\r\n",
    "\r\n",
    "plt.xlabel('$\\Delta E _{CC-DFTB}$ [kcal/mol]',fontsize=16)\r\n",
    "plt.ylabel('Data density', fontsize = 16)\r\n",
    "plt.tick_params(axis='both', labelsize=14)\r\n",
    "\r\n"
   ],
   "outputs": [
    {
     "output_type": "stream",
     "name": "stderr",
     "text": [
      "C:\\Users\\Tysh\\AppData\\Local\\Programs\\Python\\Python38-32\\lib\\site-packages\\seaborn\\distributions.py:2551: FutureWarning: `distplot` is a deprecated function and will be removed in a future version. Please adapt your code to use either `displot` (a figure-level function with similar flexibility) or `kdeplot` (an axes-level function for kernel density plots).\n",
      "  warnings.warn(msg, FutureWarning)\n",
      "C:\\Users\\Tysh\\AppData\\Local\\Programs\\Python\\Python38-32\\lib\\site-packages\\seaborn\\distributions.py:305: UserWarning: Dataset has 0 variance; skipping density estimate.\n",
      "  warnings.warn(msg, UserWarning)\n"
     ]
    },
    {
     "output_type": "display_data",
     "data": {
      "image/png": "[encoded data removed]",
      "text/plain": [
       "<Figure size 504x360 with 1 Axes>"
      ]
     },
     "metadata": {
      "needs_background": "light"
     }
    }
   ],
   "metadata": {}
  },
  {
   "cell_type": "code",
   "execution_count": null,
   "source": [],
   "outputs": [],
   "metadata": {}
  }
 ],
 "metadata": {
  "orig_nbformat": 4,
  "language_info": {
   "name": "python",
   "version": "3.8.0",
   "mimetype": "text/x-python",
   "codemirror_mode": {
    "name": "ipython",
    "version": 3
   },
   "pygments_lexer": "ipython3",
   "nbconvert_exporter": "python",
   "file_extension": ".py"
  },
  "kernelspec": {
   "name": "python3",
   "display_name": "Python 3.8.0 32-bit"
  },
  "interpreter": {
   "hash": "090d79643a76e77c83d90b5f2e6d078ec48cf5a15a1d258c3d068bd93041c698"
  }
 },
 "nbformat": 4,
 "nbformat_minor": 2
}
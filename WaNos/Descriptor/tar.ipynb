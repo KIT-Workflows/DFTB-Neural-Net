{
 "cells": [
  {
   "cell_type": "code",
   "execution_count": null,
   "metadata": {},
   "outputs": [],
   "source": [
    "import tarfile"
   ]
  },
  {
   "cell_type": "code",
   "execution_count": null,
   "metadata": {},
   "outputs": [],
   "source": [
    "archive = tarfile.open(\"src.tar\", \"w\")\n",
    "archive.add((\"src/Utils/\"))\n",
    "archive.add((\"src/Dev/\"))\n",
    "archive.add((\"src/Calculator/\"))\n",
    "archive.add((\"src/Tools\"))\n",
    "archive.close()"
   ]
  },
  {
   "cell_type": "code",
   "execution_count": null,
   "metadata": {},
   "outputs": [],
   "source": []
  }
 ],
 "metadata": {
  "kernelspec": {
   "display_name": "Python 3.8.13 ('thesis')",
   "language": "python",
   "name": "python3"
  },
  "language_info": {
   "codemirror_mode": {
    "name": "ipython",
    "version": 3
   },
   "file_extension": ".py",
   "mimetype": "text/x-python",
   "name": "python",
   "nbconvert_exporter": "python",
   "pygments_lexer": "ipython3",
   "version": "3.8.13"
  },
  "orig_nbformat": 4,
  "vscode": {
   "interpreter": {
    "hash": "1250fce717e8d22848d03e1ed78d4174112cf4adfb2ed454862b60d1688d06d6"
   }
  }
 },
 "nbformat": 4,
 "nbformat_minor": 2
}

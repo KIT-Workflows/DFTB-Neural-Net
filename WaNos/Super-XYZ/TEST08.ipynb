{
 "cells": [
  {
   "cell_type": "code",
   "execution_count": 12,
   "metadata": {},
   "outputs": [],
   "source": [
    "import yaml, os, tarfile, glob, shutil\n",
    "import pandas as pd\n",
    "from collections import OrderedDict\n",
    "from operator import getitem"
   ]
  },
  {
   "cell_type": "code",
   "execution_count": 50,
   "metadata": {},
   "outputs": [],
   "source": [
    "with open(\"all_data.yml\") as file:\n",
    "    dicts = yaml.full_load(file)  "
   ]
  },
  {
   "cell_type": "code",
   "execution_count": 51,
   "metadata": {},
   "outputs": [
    {
     "name": "stdout",
     "output_type": "stream",
     "text": [
      "dict_keys(['CCE_first10/structure_00000.xyz', 'CCE_first10/structure_00001.xyz', 'CCE_first10/structure_00002.xyz', 'CCE_first10/structure_00003.xyz', 'CCE_first10/structure_00004.xyz', 'CCE_first10/structure_00005.xyz', 'CCE_first10/structure_00006.xyz', 'CCE_first10/structure_00007.xyz', 'CCE_first10/structure_00008.xyz', 'CCE_first10/structure_00009.xyz', 'CCE_first10/structure_00010.xyz', 'CCE_first10/structure_00011.xyz', 'CCE_first10/structure_00012.xyz', 'CCE_first10/structure_00013.xyz', 'CCE_first10/structure_00014.xyz', 'CCE_first10/structure_00015.xyz', 'CCE_first10/structure_00016.xyz'])\n"
     ]
    }
   ],
   "source": [
    "print(dicts['dftb_plus_results.yml'].keys())"
   ]
  },
  {
   "cell_type": "code",
   "execution_count": 52,
   "metadata": {},
   "outputs": [],
   "source": [
    "arr=['CCE_first10/structure_00000.xyz', 'CCE_first10/structure_00001.xyz', 'CCE_first10/structure_00002.xyz', 'CCE_first10/structure_00003.xyz', 'CCE_first10/structure_00004.xyz', 'CCE_first10/structure_00005.xyz', 'CCE_first10/structure_00006.xyz', 'CCE_first10/structure_00007.xyz', 'CCE_first10/structure_00008.xyz', 'CCE_first10/structure_00009.xyz', 'CCE_first10/structure_00010.xyz', 'CCE_first10/structure_00011.xyz', 'CCE_first10/structure_00014.xyz', 'CCE_first10/structure_00012.xyz', 'CCE_first10/structure_00013.xyz', 'CCE_first10/structure_00015.xyz', 'CCE_first10/structure_00016.xyz']"
   ]
  },
  {
   "cell_type": "code",
   "execution_count": 70,
   "metadata": {},
   "outputs": [
    {
     "name": "stdout",
     "output_type": "stream",
     "text": [
      "dict_values([-0.19666026, 0.03383189, 0.03902524, 0.04922605, 0.0386901, -0.13989846, -0.43639628, 0.0363383, 0.0170292, 0.03911272, -0.13911217, -0.43381828, 0.01726553, 0.03680723, 0.03855919])\n",
      "dict_values([-0.1940881, 0.0314774, 0.03954414, 0.04905225, 0.03920694, -0.14043912, -0.43025634, 0.03673645, 0.01732389, 0.03987408, -0.13645463, -0.44344203, 0.0172748, 0.03609482, 0.03809545])\n",
      "dict_values([-0.19164938, 0.02931668, 0.04008708, 0.04887068, 0.03973576, -0.14098939, -0.42403346, 0.03714837, 0.01763442, 0.04063915, -0.13392551, -0.45309876, 0.01726894, 0.0353795, 0.03761592])\n",
      "dict_values([-0.18934172, 0.02734176, 0.04065247, 0.0486831, 0.04027536, -0.14154741, -0.41774282, 0.03757267, 0.01795993, 0.0414066, -0.13150835, -0.46276817, 0.01724286, 0.0346591, 0.03711462])\n",
      "dict_values([-0.18715912, 0.02554109, 0.04123915, 0.04848903, 0.04082549, -0.14211231, -0.41139034, 0.03800881, 0.0182998, 0.04217603, -0.12921135, -0.47244742, 0.01720371, 0.03393197, 0.03660545])\n",
      "dict_values([-0.18510024, 0.02390802, 0.04184463, 0.0482896, 0.04138495, -0.1426818, -0.40499445, 0.03845523, 0.01865287, 0.04294564, -0.12703289, -0.48211312, 0.01715152, 0.03320626, 0.03608376])\n",
      "dict_values([-0.18316066, 0.02243214, 0.04246736, 0.04808617, 0.04195274, -0.14325481, -0.39856518, 0.03891081, 0.01901838, 0.04371458, -0.12495898, -0.49175316, 0.01708213, 0.03248356, 0.03554492])\n",
      "dict_values([-0.1813382, 0.02110637, 0.04310537, 0.04787973, 0.04252734, -0.14382903, -0.39212196, 0.03937394, 0.01939498, 0.04448094, -0.12299566, -0.50134566, 0.01700533, 0.03175861, 0.0349979])\n",
      "dict_values([-0.17962733, 0.01991939, 0.04375726, 0.04767053, 0.04310858, -0.14440375, -0.38567129, 0.03984397, 0.01978209, 0.04524428, -0.12113162, -0.51088325, 0.01691102, 0.03103208, 0.03444804])\n",
      "dict_values([-0.17802496, 0.01886329, 0.04442084, 0.04746037, 0.04369502, -0.14497744, -0.37922747, 0.04031942, 0.02017864, 0.04600329, -0.11936089, -0.52034954, 0.01680208, 0.03031285, 0.0338845])\n",
      "dict_values([-0.17652736, 0.01792992, 0.04509426, 0.04725003, 0.04428548, -0.14554848, -0.37280593, 0.04079894, 0.02058343, 0.04675653, -0.11769172, -0.52972996, 0.01668958, 0.02959739, 0.0333179])\n",
      "dict_values([-0.17513178, 0.01711427, 0.04577466, 0.04704118, 0.04487813, -0.1461151, -0.36642299, 0.04128086, 0.02099495, 0.04750226, -0.11610911, -0.53900601, 0.01656092, 0.02889114, 0.03274662])\n",
      "dict_values([-0.17150632, 0.01526837, 0.04784938, 0.04643124, 0.04666663, -0.14778081, -0.34759023, 0.04273315, 0.02226494, 0.04968912, -0.11185992, -0.56612256, 0.01612825, 0.02680125, 0.03102752])\n",
      "dict_values([-0.17383185, 0.0164024, 0.04646227, 0.04683418, 0.04547357, -0.14667704, -0.3600826, 0.04176486, 0.02141329, 0.0482406, -0.11461523, -0.54817381, 0.01642852, 0.0281871, 0.03217374])\n",
      "dict_values([-0.17262465, 0.01578936, 0.04715455, 0.04663055, 0.04607008, -0.14723268, -0.35380079, 0.04224936, 0.02183698, 0.04896994, -0.11319662, -0.55721707, 0.01628196, 0.02748728, 0.03160175])\n",
      "dict_values([-0.17047266, 0.01483282, 0.04854548, 0.04623773, 0.04726221, -0.14832053, -0.34145999, 0.04321516, 0.02269634, 0.05039744, -0.11060152, -0.57488484, 0.01597199, 0.02612611, 0.03045425])\n",
      "dict_values([-0.16951932, 0.0144746, 0.04924182, 0.04605037, 0.04785586, -0.14885099, -0.33541876, 0.04369455, 0.02313029, 0.05109396, -0.10940869, -0.58349254, 0.01580741, 0.0254572, 0.02988425])\n"
     ]
    }
   ],
   "source": [
    "Cargas=[]\n",
    "for ele in arr:\n",
    "    Cargas.append(dicts['dftb_plus_results.yml'][ele]['charges'].values())\n",
    "    print(dicts['dftb_plus_results.yml'][ele]['charges'].values())\n"
   ]
  },
  {
   "cell_type": "code",
   "execution_count": 109,
   "metadata": {},
   "outputs": [
    {
     "name": "stdout",
     "output_type": "stream",
     "text": [
      "-0.16951932\n",
      "0.0144746\n",
      "0.04924182\n",
      "0.04605037\n",
      "0.04785586\n",
      "-0.14885099\n",
      "-0.33541876\n",
      "0.04369455\n",
      "0.02313029\n",
      "0.05109396\n",
      "-0.10940869\n",
      "-0.58349254\n",
      "0.01580741\n",
      "0.0254572\n",
      "0.02988425\n"
     ]
    }
   ],
   "source": [
    "for item in Cargas[16]:\n",
    "    print (item)"
   ]
  },
  {
   "cell_type": "code",
   "execution_count": 111,
   "metadata": {},
   "outputs": [],
   "source": [
    "with open(r'cargas2.txt', 'w') as fp:\n",
    "    for i in range(0,len(Cargas)):\n",
    "        for item in Cargas[i]:\n",
    "            fp.write(\"%s\\n\" % item)\n"
   ]
  },
  {
   "cell_type": "code",
   "execution_count": 102,
   "metadata": {},
   "outputs": [],
   "source": [
    "for ele in arr:\n",
    "    with open(r'cargas2.txt', 'w') as fp:\n",
    "        for item in dicts['dftb_plus_results.yml'][ele]['charges'].values():\n",
    "            fp.write(\"%s\\n\" % item)"
   ]
  },
  {
   "cell_type": "code",
   "execution_count": null,
   "metadata": {},
   "outputs": [],
   "source": []
  }
 ],
 "metadata": {
  "kernelspec": {
   "display_name": "Python 3.8.8 ('base')",
   "language": "python",
   "name": "python3"
  },
  "language_info": {
   "codemirror_mode": {
    "name": "ipython",
    "version": 3
   },
   "file_extension": ".py",
   "mimetype": "text/x-python",
   "name": "python",
   "nbconvert_exporter": "python",
   "pygments_lexer": "ipython3",
   "version": "3.8.8"
  },
  "orig_nbformat": 4,
  "vscode": {
   "interpreter": {
    "hash": "db727c30903d8ef2b5ba67b151eb7ebda75bdb03af8619f89c62bfc9967fadae"
   }
  }
 },
 "nbformat": 4,
 "nbformat_minor": 2
}

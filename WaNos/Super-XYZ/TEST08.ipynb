{
 "cells": [
  {
   "cell_type": "code",
   "execution_count": 15,
   "metadata": {},
   "outputs": [],
   "source": [
    "import yaml, os, tarfile, glob, shutil\n",
    "import pandas as pd"
   ]
  },
  {
   "cell_type": "code",
   "execution_count": 16,
   "metadata": {},
   "outputs": [],
   "source": [
    "with open(\"rendered_wano.yml\") as file:\n",
    "        wano_file = yaml.full_load(file)\n",
    "fname =  wano_file['Molecules']\n",
    "energies =  wano_file['Table energy']\n",
    "\n",
    "if fname.endswith(\"tar.gz\"):\n",
    "        tar = tarfile.open(fname)\n",
    "        tar.extractall('my_folder')\n",
    "        tar.close()\n",
    "elif fname.endswith(\"tar.xz\"):\n",
    "        tar = tarfile.open(fname)\n",
    "        tar.extractall('my_folder')\n",
    "        tar.close()    \n",
    "elif fname.endswith(\"tar\"):\n",
    "        tar = tarfile.open(fname)\n",
    "        tar.extractall('my_folder')\n",
    "        tar.close() "
   ]
  },
  {
   "cell_type": "code",
   "execution_count": 10,
   "metadata": {},
   "outputs": [],
   "source": [
    "d=pd.read_csv(\"Table-var.csv\")"
   ]
  },
  {
   "cell_type": "code",
   "execution_count": 3,
   "metadata": {},
   "outputs": [],
   "source": [
    "dftb = pd.concat([d[\"dftb_energy\"], d[\"dftb_structure\"]], axis=1)\n",
    "orca = pd.concat([d[\"orca_energy\"], d[\"orca_structure\"]], axis=1)"
   ]
  },
  {
   "cell_type": "code",
   "execution_count": 4,
   "metadata": {},
   "outputs": [
    {
     "data": {
      "text/html": [
       "<div>\n",
       "<style scoped>\n",
       "    .dataframe tbody tr th:only-of-type {\n",
       "        vertical-align: middle;\n",
       "    }\n",
       "\n",
       "    .dataframe tbody tr th {\n",
       "        vertical-align: top;\n",
       "    }\n",
       "\n",
       "    .dataframe thead th {\n",
       "        text-align: right;\n",
       "    }\n",
       "</style>\n",
       "<table border=\"1\" class=\"dataframe\">\n",
       "  <thead>\n",
       "    <tr style=\"text-align: right;\">\n",
       "      <th></th>\n",
       "      <th>dftb_energy</th>\n",
       "      <th>dftb_structure</th>\n",
       "    </tr>\n",
       "  </thead>\n",
       "  <tbody>\n",
       "    <tr>\n",
       "      <th>0</th>\n",
       "      <td>-15.750165</td>\n",
       "      <td>Structures/S1.xyz</td>\n",
       "    </tr>\n",
       "    <tr>\n",
       "      <th>1</th>\n",
       "      <td>-15.756436</td>\n",
       "      <td>Structures/S4.xyz</td>\n",
       "    </tr>\n",
       "    <tr>\n",
       "      <th>2</th>\n",
       "      <td>-15.756436</td>\n",
       "      <td>Structures/S10.xyz</td>\n",
       "    </tr>\n",
       "    <tr>\n",
       "      <th>3</th>\n",
       "      <td>-15.756441</td>\n",
       "      <td>Structures/S8.xyz</td>\n",
       "    </tr>\n",
       "    <tr>\n",
       "      <th>4</th>\n",
       "      <td>-15.756441</td>\n",
       "      <td>Structures/S5.xyz</td>\n",
       "    </tr>\n",
       "  </tbody>\n",
       "</table>\n",
       "</div>"
      ],
      "text/plain": [
       "   dftb_energy      dftb_structure\n",
       "0   -15.750165   Structures/S1.xyz\n",
       "1   -15.756436   Structures/S4.xyz\n",
       "2   -15.756436  Structures/S10.xyz\n",
       "3   -15.756441   Structures/S8.xyz\n",
       "4   -15.756441   Structures/S5.xyz"
      ]
     },
     "execution_count": 4,
     "metadata": {},
     "output_type": "execute_result"
    }
   ],
   "source": [
    "dftb.head()"
   ]
  },
  {
   "cell_type": "code",
   "execution_count": 5,
   "metadata": {},
   "outputs": [
    {
     "data": {
      "text/plain": [
       "10"
      ]
     },
     "execution_count": 5,
     "metadata": {},
     "output_type": "execute_result"
    }
   ],
   "source": [
    "arr = dftb[\"dftb_structure\"].to_numpy()\n",
    "len(arr)"
   ]
  },
  {
   "cell_type": "code",
   "execution_count": 6,
   "metadata": {},
   "outputs": [],
   "source": [
    "new_orca=[]\n",
    "for i in range(len(arr)):\n",
    "    new_orca.append(orca[orca.eq(arr[i]).any(1)])\n",
    "merged = pd.concat(new_orca,ignore_index=True)"
   ]
  },
  {
   "cell_type": "code",
   "execution_count": 19,
   "metadata": {},
   "outputs": [],
   "source": [
    "rearranged_table=pd.concat([dftb[\"dftb_energy\"], dftb[\"dftb_structure\"],merged[\"orca_structure\"],merged[\"orca_energy\"]],axis=1)\n",
    "final_table.to_csv('final_table.csv')"
   ]
  },
  {
   "cell_type": "code",
   "execution_count": 22,
   "metadata": {},
   "outputs": [
    {
     "name": "stdout",
     "output_type": "stream",
     "text": [
      "Structures/S1.xyz\n"
     ]
    }
   ],
   "source": [
    "print(filename)"
   ]
  },
  {
   "cell_type": "code",
   "execution_count": 32,
   "metadata": {},
   "outputs": [],
   "source": [
    "mylist = rearranged_table['orca_structure'].tolist()\n",
    "string = 'my_folder/'\n",
    "lst_xyz=[string + s for s in mylist]\n",
    "    #lst_xyz = [\"Mol_structures/\" + f for f in os.listdir(\"Mol_structures/\") if f.endswith('.xyz')]\n",
    "    #lst_xyz = sorted(lst_xyz)\n",
    "with open(\"appended_structures.xyz\", \"w\") as outfile:\n",
    "    for filename in lst_xyz:\n",
    "        with open(filename) as infile:\n",
    "            contents = infile.read()\n",
    "            outfile.write(contents)\n",
    "            outfile.write(\"\\n\")"
   ]
  },
  {
   "cell_type": "code",
   "execution_count": null,
   "metadata": {},
   "outputs": [],
   "source": []
  }
 ],
 "metadata": {
  "interpreter": {
   "hash": "533ff534823fff79163c3125861a34174ca796d55f21f3cb68e1b65b32a0c5b3"
  },
  "kernelspec": {
   "display_name": "Python 3.8.8 64-bit ('base': conda)",
   "language": "python",
   "name": "python3"
  },
  "language_info": {
   "codemirror_mode": {
    "name": "ipython",
    "version": 3
   },
   "file_extension": ".py",
   "mimetype": "text/x-python",
   "name": "python",
   "nbconvert_exporter": "python",
   "pygments_lexer": "ipython3",
   "version": "3.8.8"
  },
  "orig_nbformat": 4
 },
 "nbformat": 4,
 "nbformat_minor": 2
}
